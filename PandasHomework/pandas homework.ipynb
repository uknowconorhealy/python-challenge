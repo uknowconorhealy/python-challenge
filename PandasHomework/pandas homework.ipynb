{
 "cells": [
  {
   "cell_type": "code",
   "execution_count": 30,
   "metadata": {},
   "outputs": [],
   "source": [
    "import pandas as pd\n",
    "import numpy as np\n",
    "\n",
    "heroes_file = \"Resources/purchase_data.csv\"\n",
    "\n",
    "purchase_data = pd.read_csv(heroes_file)"
   ]
  },
  {
   "cell_type": "code",
   "execution_count": 32,
   "metadata": {},
   "outputs": [
    {
     "data": {
      "text/html": [
       "<div>\n",
       "<style scoped>\n",
       "    .dataframe tbody tr th:only-of-type {\n",
       "        vertical-align: middle;\n",
       "    }\n",
       "\n",
       "    .dataframe tbody tr th {\n",
       "        vertical-align: top;\n",
       "    }\n",
       "\n",
       "    .dataframe thead th {\n",
       "        text-align: right;\n",
       "    }\n",
       "</style>\n",
       "<table border=\"1\" class=\"dataframe\">\n",
       "  <thead>\n",
       "    <tr style=\"text-align: right;\">\n",
       "      <th></th>\n",
       "      <th>Total Players</th>\n",
       "    </tr>\n",
       "  </thead>\n",
       "  <tbody>\n",
       "    <tr>\n",
       "      <th>0</th>\n",
       "      <td>576</td>\n",
       "    </tr>\n",
       "  </tbody>\n",
       "</table>\n",
       "</div>"
      ],
      "text/plain": [
       "   Total Players\n",
       "0            576"
      ]
     },
     "execution_count": 32,
     "metadata": {},
     "output_type": "execute_result"
    }
   ],
   "source": [
    "total_players = len(purchase_data[\"SN\"].value_counts())\n",
    "\n",
    "players = pd.DataFrame({\"Total Players\":[total_players]})\n",
    "players"
   ]
  },
  {
   "cell_type": "code",
   "execution_count": 34,
   "metadata": {},
   "outputs": [
    {
     "data": {
      "text/html": [
       "<style  type=\"text/css\" >\n",
       "</style>  \n",
       "<table id=\"T_3c9c9626_d4ba_11e8_a4ec_f218982326ad\" > \n",
       "<thead>    <tr> \n",
       "        <th class=\"blank level0\" ></th> \n",
       "        <th class=\"col_heading level0 col0\" >Number of Unique Items</th> \n",
       "        <th class=\"col_heading level0 col1\" >Average Price</th> \n",
       "        <th class=\"col_heading level0 col2\" >Number of Purchases</th> \n",
       "        <th class=\"col_heading level0 col3\" >Total Revenue</th> \n",
       "    </tr></thead> \n",
       "<tbody>    <tr> \n",
       "        <th id=\"T_3c9c9626_d4ba_11e8_a4ec_f218982326adlevel0_row0\" class=\"row_heading level0 row0\" >0</th> \n",
       "        <td id=\"T_3c9c9626_d4ba_11e8_a4ec_f218982326adrow0_col0\" class=\"data row0 col0\" >183</td> \n",
       "        <td id=\"T_3c9c9626_d4ba_11e8_a4ec_f218982326adrow0_col1\" class=\"data row0 col1\" >$3.05</td> \n",
       "        <td id=\"T_3c9c9626_d4ba_11e8_a4ec_f218982326adrow0_col2\" class=\"data row0 col2\" >780</td> \n",
       "        <td id=\"T_3c9c9626_d4ba_11e8_a4ec_f218982326adrow0_col3\" class=\"data row0 col3\" >$2,379.77</td> \n",
       "    </tr></tbody> \n",
       "</table> "
      ],
      "text/plain": [
       "<pandas.io.formats.style.Styler at 0x11cf0e208>"
      ]
     },
     "execution_count": 34,
     "metadata": {},
     "output_type": "execute_result"
    }
   ],
   "source": [
    "unique_items = len((purchase_data[\"Item ID\"]).unique())\n",
    "avg_price = (purchase_data[\"Price\"]).mean()\n",
    "purchases = (purchase_data[\"Purchase ID\"]).count()\n",
    "revenue = (purchase_data[\"Price\"]).sum()\n",
    "\n",
    "purchasing_analysis_df = pd.DataFrame({\"Number of Unique Items\":[unique_items],\n",
    "                           \"Average Price\":[avg_price], \n",
    "                           \"Number of Purchases\": [purchases], \n",
    "                           \"Total Revenue\": [revenue]})\n",
    "\n",
    "purchasing_analysis_df.style.format({'Average Price':\"${:,.2f}\",\n",
    "                                     'Total Revenue': '${:,.2f}'})"
   ]
  },
  {
   "cell_type": "code",
   "execution_count": 40,
   "metadata": {},
   "outputs": [
    {
     "data": {
      "text/html": [
       "<style  type=\"text/css\" >\n",
       "</style>  \n",
       "<table id=\"T_30eaae48_d4bb_11e8_8f9c_f218982326ad\" > \n",
       "<thead>    <tr> \n",
       "        <th class=\"blank level0\" ></th> \n",
       "        <th class=\"col_heading level0 col0\" >Total Count</th> \n",
       "        <th class=\"col_heading level0 col1\" >Percentage of Players</th> \n",
       "    </tr>    <tr> \n",
       "        <th class=\"index_name level0\" >Gender</th> \n",
       "        <th class=\"blank\" ></th> \n",
       "        <th class=\"blank\" ></th> \n",
       "    </tr></thead> \n",
       "<tbody>    <tr> \n",
       "        <th id=\"T_30eaae48_d4bb_11e8_8f9c_f218982326adlevel0_row0\" class=\"row_heading level0 row0\" >Male</th> \n",
       "        <td id=\"T_30eaae48_d4bb_11e8_8f9c_f218982326adrow0_col0\" class=\"data row0 col0\" >484</td> \n",
       "        <td id=\"T_30eaae48_d4bb_11e8_8f9c_f218982326adrow0_col1\" class=\"data row0 col1\" >84.03</td> \n",
       "    </tr>    <tr> \n",
       "        <th id=\"T_30eaae48_d4bb_11e8_8f9c_f218982326adlevel0_row1\" class=\"row_heading level0 row1\" >Female</th> \n",
       "        <td id=\"T_30eaae48_d4bb_11e8_8f9c_f218982326adrow1_col0\" class=\"data row1 col0\" >81</td> \n",
       "        <td id=\"T_30eaae48_d4bb_11e8_8f9c_f218982326adrow1_col1\" class=\"data row1 col1\" >14.06</td> \n",
       "    </tr>    <tr> \n",
       "        <th id=\"T_30eaae48_d4bb_11e8_8f9c_f218982326adlevel0_row2\" class=\"row_heading level0 row2\" >Other / Non-Disclosed</th> \n",
       "        <td id=\"T_30eaae48_d4bb_11e8_8f9c_f218982326adrow2_col0\" class=\"data row2 col0\" >11</td> \n",
       "        <td id=\"T_30eaae48_d4bb_11e8_8f9c_f218982326adrow2_col1\" class=\"data row2 col1\" >1.91</td> \n",
       "    </tr></tbody> \n",
       "</table> "
      ],
      "text/plain": [
       "<pandas.io.formats.style.Styler at 0x11cd807f0>"
      ]
     },
     "execution_count": 40,
     "metadata": {},
     "output_type": "execute_result"
    }
   ],
   "source": [
    "gender_stats = purchase_data.groupby(\"Gender\")\n",
    "\n",
    "total_count = gender_stats.nunique()[\"SN\"]\n",
    "\n",
    "percent_players = total_count / total_players * 100\n",
    "\n",
    "gender_demo = pd.DataFrame({\"Total Count\": total_count, \"Percentage of Players\": percent_players})\n",
    "\n",
    "gender_demo.sort_values([\"Total Count\"], ascending = False).style.format({\"Percentage of Players\":\"{:.2f}\"})\n"
   ]
  },
  {
   "cell_type": "code",
   "execution_count": 29,
   "metadata": {},
   "outputs": [
    {
     "data": {
      "text/html": [
       "<style  type=\"text/css\" >\n",
       "</style>  \n",
       "<table id=\"T_7145b258_d4b8_11e8_b35b_f218982326ad\" > \n",
       "<thead>    <tr> \n",
       "        <th class=\"blank level0\" ></th> \n",
       "        <th class=\"col_heading level0 col0\" >Purchase Count</th> \n",
       "        <th class=\"col_heading level0 col1\" >Average Purchase Price</th> \n",
       "        <th class=\"col_heading level0 col2\" >Total Purchase Value</th> \n",
       "        <th class=\"col_heading level0 col3\" >Avg Total Purchase per Person</th> \n",
       "    </tr>    <tr> \n",
       "        <th class=\"index_name level0\" >Gender</th> \n",
       "        <th class=\"blank\" ></th> \n",
       "        <th class=\"blank\" ></th> \n",
       "        <th class=\"blank\" ></th> \n",
       "        <th class=\"blank\" ></th> \n",
       "    </tr></thead> \n",
       "<tbody>    <tr> \n",
       "        <th id=\"T_7145b258_d4b8_11e8_b35b_f218982326adlevel0_row0\" class=\"row_heading level0 row0\" >Female</th> \n",
       "        <td id=\"T_7145b258_d4b8_11e8_b35b_f218982326adrow0_col0\" class=\"data row0 col0\" >113</td> \n",
       "        <td id=\"T_7145b258_d4b8_11e8_b35b_f218982326adrow0_col1\" class=\"data row0 col1\" >$3.20</td> \n",
       "        <td id=\"T_7145b258_d4b8_11e8_b35b_f218982326adrow0_col2\" class=\"data row0 col2\" >$361.94</td> \n",
       "        <td id=\"T_7145b258_d4b8_11e8_b35b_f218982326adrow0_col3\" class=\"data row0 col3\" >$4.47</td> \n",
       "    </tr>    <tr> \n",
       "        <th id=\"T_7145b258_d4b8_11e8_b35b_f218982326adlevel0_row1\" class=\"row_heading level0 row1\" >Male</th> \n",
       "        <td id=\"T_7145b258_d4b8_11e8_b35b_f218982326adrow1_col0\" class=\"data row1 col0\" >652</td> \n",
       "        <td id=\"T_7145b258_d4b8_11e8_b35b_f218982326adrow1_col1\" class=\"data row1 col1\" >$3.02</td> \n",
       "        <td id=\"T_7145b258_d4b8_11e8_b35b_f218982326adrow1_col2\" class=\"data row1 col2\" >$1,967.64</td> \n",
       "        <td id=\"T_7145b258_d4b8_11e8_b35b_f218982326adrow1_col3\" class=\"data row1 col3\" >$4.07</td> \n",
       "    </tr>    <tr> \n",
       "        <th id=\"T_7145b258_d4b8_11e8_b35b_f218982326adlevel0_row2\" class=\"row_heading level0 row2\" >Other / Non-Disclosed</th> \n",
       "        <td id=\"T_7145b258_d4b8_11e8_b35b_f218982326adrow2_col0\" class=\"data row2 col0\" >15</td> \n",
       "        <td id=\"T_7145b258_d4b8_11e8_b35b_f218982326adrow2_col1\" class=\"data row2 col1\" >$3.35</td> \n",
       "        <td id=\"T_7145b258_d4b8_11e8_b35b_f218982326adrow2_col2\" class=\"data row2 col2\" >$50.19</td> \n",
       "        <td id=\"T_7145b258_d4b8_11e8_b35b_f218982326adrow2_col3\" class=\"data row2 col3\" >$4.56</td> \n",
       "    </tr></tbody> \n",
       "</table> "
      ],
      "text/plain": [
       "<pandas.io.formats.style.Styler at 0x11cd25588>"
      ]
     },
     "execution_count": 29,
     "metadata": {},
     "output_type": "execute_result"
    }
   ],
   "source": [
    "purchase_count = gender_stats[\"Purchase ID\"].count()\n",
    "\n",
    "avg_price = gender_stats[\"Price\"].mean()\n",
    "\n",
    "avg_total = gender_stats[\"Price\"].sum()\n",
    "\n",
    "avg_per_person = avg_total/total_count_gender\n",
    "\n",
    "gender_demo = pd.DataFrame({\"Purchase Count\": purchase_count, \n",
    "                                    \"Average Purchase Price\": avg_price,\n",
    "                                    \"Total Purchase Value\":avg_total,\n",
    "                                    \"Avg Total Purchase per Person\": avg_per_person})\n",
    "\n",
    "gender_demo.index.name = \"Gender\"\n",
    "\n",
    "gender_demo.style.format({\"Total Purchase Value\":\"${:,.2f}\",\n",
    "                          \"Average Purchase Price\":\"${:,.2f}\",\n",
    "                          \"Avg Total Purchase per Person\":\"${:,.2f}\"})\n"
   ]
  },
  {
   "cell_type": "code",
   "execution_count": 48,
   "metadata": {
    "scrolled": false
   },
   "outputs": [
    {
     "data": {
      "text/html": [
       "<style  type=\"text/css\" >\n",
       "</style>  \n",
       "<table id=\"T_df8a1350_d4c8_11e8_963a_f218982326ad\" > \n",
       "<thead>    <tr> \n",
       "        <th class=\"blank level0\" ></th> \n",
       "        <th class=\"col_heading level0 col0\" >Total Count</th> \n",
       "        <th class=\"col_heading level0 col1\" >Percentage of Players</th> \n",
       "    </tr>    <tr> \n",
       "        <th class=\"index_name level0\" >Age Group</th> \n",
       "        <th class=\"blank\" ></th> \n",
       "        <th class=\"blank\" ></th> \n",
       "    </tr></thead> \n",
       "<tbody>    <tr> \n",
       "        <th id=\"T_df8a1350_d4c8_11e8_963a_f218982326adlevel0_row0\" class=\"row_heading level0 row0\" ><10</th> \n",
       "        <td id=\"T_df8a1350_d4c8_11e8_963a_f218982326adrow0_col0\" class=\"data row0 col0\" >17</td> \n",
       "        <td id=\"T_df8a1350_d4c8_11e8_963a_f218982326adrow0_col1\" class=\"data row0 col1\" >2.95</td> \n",
       "    </tr>    <tr> \n",
       "        <th id=\"T_df8a1350_d4c8_11e8_963a_f218982326adlevel0_row1\" class=\"row_heading level0 row1\" >10-14</th> \n",
       "        <td id=\"T_df8a1350_d4c8_11e8_963a_f218982326adrow1_col0\" class=\"data row1 col0\" >22</td> \n",
       "        <td id=\"T_df8a1350_d4c8_11e8_963a_f218982326adrow1_col1\" class=\"data row1 col1\" >3.82</td> \n",
       "    </tr>    <tr> \n",
       "        <th id=\"T_df8a1350_d4c8_11e8_963a_f218982326adlevel0_row2\" class=\"row_heading level0 row2\" >15-19</th> \n",
       "        <td id=\"T_df8a1350_d4c8_11e8_963a_f218982326adrow2_col0\" class=\"data row2 col0\" >107</td> \n",
       "        <td id=\"T_df8a1350_d4c8_11e8_963a_f218982326adrow2_col1\" class=\"data row2 col1\" >18.58</td> \n",
       "    </tr>    <tr> \n",
       "        <th id=\"T_df8a1350_d4c8_11e8_963a_f218982326adlevel0_row3\" class=\"row_heading level0 row3\" >20-24</th> \n",
       "        <td id=\"T_df8a1350_d4c8_11e8_963a_f218982326adrow3_col0\" class=\"data row3 col0\" >258</td> \n",
       "        <td id=\"T_df8a1350_d4c8_11e8_963a_f218982326adrow3_col1\" class=\"data row3 col1\" >44.79</td> \n",
       "    </tr>    <tr> \n",
       "        <th id=\"T_df8a1350_d4c8_11e8_963a_f218982326adlevel0_row4\" class=\"row_heading level0 row4\" >25-29</th> \n",
       "        <td id=\"T_df8a1350_d4c8_11e8_963a_f218982326adrow4_col0\" class=\"data row4 col0\" >77</td> \n",
       "        <td id=\"T_df8a1350_d4c8_11e8_963a_f218982326adrow4_col1\" class=\"data row4 col1\" >13.37</td> \n",
       "    </tr>    <tr> \n",
       "        <th id=\"T_df8a1350_d4c8_11e8_963a_f218982326adlevel0_row5\" class=\"row_heading level0 row5\" >30-34</th> \n",
       "        <td id=\"T_df8a1350_d4c8_11e8_963a_f218982326adrow5_col0\" class=\"data row5 col0\" >52</td> \n",
       "        <td id=\"T_df8a1350_d4c8_11e8_963a_f218982326adrow5_col1\" class=\"data row5 col1\" >9.03</td> \n",
       "    </tr>    <tr> \n",
       "        <th id=\"T_df8a1350_d4c8_11e8_963a_f218982326adlevel0_row6\" class=\"row_heading level0 row6\" >35-39</th> \n",
       "        <td id=\"T_df8a1350_d4c8_11e8_963a_f218982326adrow6_col0\" class=\"data row6 col0\" >31</td> \n",
       "        <td id=\"T_df8a1350_d4c8_11e8_963a_f218982326adrow6_col1\" class=\"data row6 col1\" >5.38</td> \n",
       "    </tr>    <tr> \n",
       "        <th id=\"T_df8a1350_d4c8_11e8_963a_f218982326adlevel0_row7\" class=\"row_heading level0 row7\" >40+</th> \n",
       "        <td id=\"T_df8a1350_d4c8_11e8_963a_f218982326adrow7_col0\" class=\"data row7 col0\" >12</td> \n",
       "        <td id=\"T_df8a1350_d4c8_11e8_963a_f218982326adrow7_col1\" class=\"data row7 col1\" >2.08</td> \n",
       "    </tr></tbody> \n",
       "</table> "
      ],
      "text/plain": [
       "<pandas.io.formats.style.Styler at 0x11cebfac8>"
      ]
     },
     "execution_count": 48,
     "metadata": {},
     "output_type": "execute_result"
    }
   ],
   "source": [
    "bins = [0, 9.90, 14.90, 19.90, 24.90, 29.90, 34.90, 39.90, 99999]\n",
    "groups = [\"<10\", \"10-14\", \"15-19\", \"20-24\", \"25-29\", \"30-34\", \"35-39\", \"40+\"]\n",
    "\n",
    "purchase_data[\"Age Group\"] = pd.cut(purchase_data[\"Age\"],bins, labels=groups)\n",
    "purchase_data\n",
    "\n",
    "age_group = purchase_data.groupby(\"Age Group\")\n",
    "\n",
    "total_count = age_group[\"SN\"].nunique()\n",
    "\n",
    "percentage_age = (total_count/total_players) * 100\n",
    "\n",
    "age_demo = pd.DataFrame({\"Total Count\": total_count, \"Percentage of Players\": percentage_age})\n",
    "\n",
    "age_demo.style.format({\"Percentage of Players\":\"{:,.2f}\"})"
   ]
  },
  {
   "cell_type": "code",
   "execution_count": 49,
   "metadata": {},
   "outputs": [
    {
     "data": {
      "text/html": [
       "<style  type=\"text/css\" >\n",
       "</style>  \n",
       "<table id=\"T_3afb8c9e_d4c9_11e8_bdf4_f218982326ad\" > \n",
       "<thead>    <tr> \n",
       "        <th class=\"blank level0\" ></th> \n",
       "        <th class=\"col_heading level0 col0\" >Purchase Count</th> \n",
       "        <th class=\"col_heading level0 col1\" >Average Purchase Price</th> \n",
       "        <th class=\"col_heading level0 col2\" >Total Purchase Value</th> \n",
       "        <th class=\"col_heading level0 col3\" >Average Purchase Total per Person</th> \n",
       "    </tr>    <tr> \n",
       "        <th class=\"index_name level0\" >Age Group</th> \n",
       "        <th class=\"blank\" ></th> \n",
       "        <th class=\"blank\" ></th> \n",
       "        <th class=\"blank\" ></th> \n",
       "        <th class=\"blank\" ></th> \n",
       "    </tr></thead> \n",
       "<tbody>    <tr> \n",
       "        <th id=\"T_3afb8c9e_d4c9_11e8_bdf4_f218982326adlevel0_row0\" class=\"row_heading level0 row0\" ><10</th> \n",
       "        <td id=\"T_3afb8c9e_d4c9_11e8_bdf4_f218982326adrow0_col0\" class=\"data row0 col0\" >23</td> \n",
       "        <td id=\"T_3afb8c9e_d4c9_11e8_bdf4_f218982326adrow0_col1\" class=\"data row0 col1\" >$3.35</td> \n",
       "        <td id=\"T_3afb8c9e_d4c9_11e8_bdf4_f218982326adrow0_col2\" class=\"data row0 col2\" >$77.13</td> \n",
       "        <td id=\"T_3afb8c9e_d4c9_11e8_bdf4_f218982326adrow0_col3\" class=\"data row0 col3\" >$4.54</td> \n",
       "    </tr>    <tr> \n",
       "        <th id=\"T_3afb8c9e_d4c9_11e8_bdf4_f218982326adlevel0_row1\" class=\"row_heading level0 row1\" >10-14</th> \n",
       "        <td id=\"T_3afb8c9e_d4c9_11e8_bdf4_f218982326adrow1_col0\" class=\"data row1 col0\" >28</td> \n",
       "        <td id=\"T_3afb8c9e_d4c9_11e8_bdf4_f218982326adrow1_col1\" class=\"data row1 col1\" >$2.96</td> \n",
       "        <td id=\"T_3afb8c9e_d4c9_11e8_bdf4_f218982326adrow1_col2\" class=\"data row1 col2\" >$82.78</td> \n",
       "        <td id=\"T_3afb8c9e_d4c9_11e8_bdf4_f218982326adrow1_col3\" class=\"data row1 col3\" >$3.76</td> \n",
       "    </tr>    <tr> \n",
       "        <th id=\"T_3afb8c9e_d4c9_11e8_bdf4_f218982326adlevel0_row2\" class=\"row_heading level0 row2\" >15-19</th> \n",
       "        <td id=\"T_3afb8c9e_d4c9_11e8_bdf4_f218982326adrow2_col0\" class=\"data row2 col0\" >136</td> \n",
       "        <td id=\"T_3afb8c9e_d4c9_11e8_bdf4_f218982326adrow2_col1\" class=\"data row2 col1\" >$3.04</td> \n",
       "        <td id=\"T_3afb8c9e_d4c9_11e8_bdf4_f218982326adrow2_col2\" class=\"data row2 col2\" >$412.89</td> \n",
       "        <td id=\"T_3afb8c9e_d4c9_11e8_bdf4_f218982326adrow2_col3\" class=\"data row2 col3\" >$3.86</td> \n",
       "    </tr>    <tr> \n",
       "        <th id=\"T_3afb8c9e_d4c9_11e8_bdf4_f218982326adlevel0_row3\" class=\"row_heading level0 row3\" >20-24</th> \n",
       "        <td id=\"T_3afb8c9e_d4c9_11e8_bdf4_f218982326adrow3_col0\" class=\"data row3 col0\" >365</td> \n",
       "        <td id=\"T_3afb8c9e_d4c9_11e8_bdf4_f218982326adrow3_col1\" class=\"data row3 col1\" >$3.05</td> \n",
       "        <td id=\"T_3afb8c9e_d4c9_11e8_bdf4_f218982326adrow3_col2\" class=\"data row3 col2\" >$1,114.06</td> \n",
       "        <td id=\"T_3afb8c9e_d4c9_11e8_bdf4_f218982326adrow3_col3\" class=\"data row3 col3\" >$4.32</td> \n",
       "    </tr>    <tr> \n",
       "        <th id=\"T_3afb8c9e_d4c9_11e8_bdf4_f218982326adlevel0_row4\" class=\"row_heading level0 row4\" >25-29</th> \n",
       "        <td id=\"T_3afb8c9e_d4c9_11e8_bdf4_f218982326adrow4_col0\" class=\"data row4 col0\" >101</td> \n",
       "        <td id=\"T_3afb8c9e_d4c9_11e8_bdf4_f218982326adrow4_col1\" class=\"data row4 col1\" >$2.90</td> \n",
       "        <td id=\"T_3afb8c9e_d4c9_11e8_bdf4_f218982326adrow4_col2\" class=\"data row4 col2\" >$293.00</td> \n",
       "        <td id=\"T_3afb8c9e_d4c9_11e8_bdf4_f218982326adrow4_col3\" class=\"data row4 col3\" >$3.81</td> \n",
       "    </tr>    <tr> \n",
       "        <th id=\"T_3afb8c9e_d4c9_11e8_bdf4_f218982326adlevel0_row5\" class=\"row_heading level0 row5\" >30-34</th> \n",
       "        <td id=\"T_3afb8c9e_d4c9_11e8_bdf4_f218982326adrow5_col0\" class=\"data row5 col0\" >73</td> \n",
       "        <td id=\"T_3afb8c9e_d4c9_11e8_bdf4_f218982326adrow5_col1\" class=\"data row5 col1\" >$2.93</td> \n",
       "        <td id=\"T_3afb8c9e_d4c9_11e8_bdf4_f218982326adrow5_col2\" class=\"data row5 col2\" >$214.00</td> \n",
       "        <td id=\"T_3afb8c9e_d4c9_11e8_bdf4_f218982326adrow5_col3\" class=\"data row5 col3\" >$4.12</td> \n",
       "    </tr>    <tr> \n",
       "        <th id=\"T_3afb8c9e_d4c9_11e8_bdf4_f218982326adlevel0_row6\" class=\"row_heading level0 row6\" >35-39</th> \n",
       "        <td id=\"T_3afb8c9e_d4c9_11e8_bdf4_f218982326adrow6_col0\" class=\"data row6 col0\" >41</td> \n",
       "        <td id=\"T_3afb8c9e_d4c9_11e8_bdf4_f218982326adrow6_col1\" class=\"data row6 col1\" >$3.60</td> \n",
       "        <td id=\"T_3afb8c9e_d4c9_11e8_bdf4_f218982326adrow6_col2\" class=\"data row6 col2\" >$147.67</td> \n",
       "        <td id=\"T_3afb8c9e_d4c9_11e8_bdf4_f218982326adrow6_col3\" class=\"data row6 col3\" >$4.76</td> \n",
       "    </tr>    <tr> \n",
       "        <th id=\"T_3afb8c9e_d4c9_11e8_bdf4_f218982326adlevel0_row7\" class=\"row_heading level0 row7\" >40+</th> \n",
       "        <td id=\"T_3afb8c9e_d4c9_11e8_bdf4_f218982326adrow7_col0\" class=\"data row7 col0\" >13</td> \n",
       "        <td id=\"T_3afb8c9e_d4c9_11e8_bdf4_f218982326adrow7_col1\" class=\"data row7 col1\" >$2.94</td> \n",
       "        <td id=\"T_3afb8c9e_d4c9_11e8_bdf4_f218982326adrow7_col2\" class=\"data row7 col2\" >$38.24</td> \n",
       "        <td id=\"T_3afb8c9e_d4c9_11e8_bdf4_f218982326adrow7_col3\" class=\"data row7 col3\" >$3.19</td> \n",
       "    </tr></tbody> \n",
       "</table> "
      ],
      "text/plain": [
       "<pandas.io.formats.style.Styler at 0x114eb81d0>"
      ]
     },
     "execution_count": 49,
     "metadata": {},
     "output_type": "execute_result"
    }
   ],
   "source": [
    "purchase_count_age = age_grouped[\"Purchase ID\"].count()\n",
    "\n",
    "avg_price_age = age_grouped[\"Price\"].mean()\n",
    "\n",
    "total_purchase_value = age_grouped[\"Price\"].sum()\n",
    "\n",
    "avg_purchase_per_person_age = total_purchase_value/total_count_age\n",
    "\n",
    "age_demo = pd.DataFrame({\"Purchase Count\": purchase_count_age,\n",
    "                                 \"Average Purchase Price\": avg_price_age,\n",
    "                                 \"Total Purchase Value\":total_purchase_value,\n",
    "                                 \"Average Purchase Total per Person\": avg_purchase_per_person_age})\n",
    "\n",
    "age_demo.style.format({\"Average Purchase Price\":\"${:,.2f}\",\n",
    "                               \"Total Purchase Value\":\"${:,.2f}\",\n",
    "                               \"Average Purchase Total per Person\":\"${:,.2f}\"})\n"
   ]
  },
  {
   "cell_type": "code",
   "execution_count": 51,
   "metadata": {},
   "outputs": [
    {
     "data": {
      "text/html": [
       "<style  type=\"text/css\" >\n",
       "</style>  \n",
       "<table id=\"T_74a11c74_d4c9_11e8_b707_f218982326ad\" > \n",
       "<thead>    <tr> \n",
       "        <th class=\"blank level0\" ></th> \n",
       "        <th class=\"col_heading level0 col0\" >Purchase Count</th> \n",
       "        <th class=\"col_heading level0 col1\" >Average Purchase Price</th> \n",
       "        <th class=\"col_heading level0 col2\" >Total Purchase Value</th> \n",
       "    </tr>    <tr> \n",
       "        <th class=\"index_name level0\" >SN</th> \n",
       "        <th class=\"blank\" ></th> \n",
       "        <th class=\"blank\" ></th> \n",
       "        <th class=\"blank\" ></th> \n",
       "    </tr></thead> \n",
       "<tbody>    <tr> \n",
       "        <th id=\"T_74a11c74_d4c9_11e8_b707_f218982326adlevel0_row0\" class=\"row_heading level0 row0\" >Lisosia93</th> \n",
       "        <td id=\"T_74a11c74_d4c9_11e8_b707_f218982326adrow0_col0\" class=\"data row0 col0\" >5</td> \n",
       "        <td id=\"T_74a11c74_d4c9_11e8_b707_f218982326adrow0_col1\" class=\"data row0 col1\" >$3.79</td> \n",
       "        <td id=\"T_74a11c74_d4c9_11e8_b707_f218982326adrow0_col2\" class=\"data row0 col2\" >$18.96</td> \n",
       "    </tr>    <tr> \n",
       "        <th id=\"T_74a11c74_d4c9_11e8_b707_f218982326adlevel0_row1\" class=\"row_heading level0 row1\" >Idastidru52</th> \n",
       "        <td id=\"T_74a11c74_d4c9_11e8_b707_f218982326adrow1_col0\" class=\"data row1 col0\" >4</td> \n",
       "        <td id=\"T_74a11c74_d4c9_11e8_b707_f218982326adrow1_col1\" class=\"data row1 col1\" >$3.86</td> \n",
       "        <td id=\"T_74a11c74_d4c9_11e8_b707_f218982326adrow1_col2\" class=\"data row1 col2\" >$15.45</td> \n",
       "    </tr>    <tr> \n",
       "        <th id=\"T_74a11c74_d4c9_11e8_b707_f218982326adlevel0_row2\" class=\"row_heading level0 row2\" >Chamjask73</th> \n",
       "        <td id=\"T_74a11c74_d4c9_11e8_b707_f218982326adrow2_col0\" class=\"data row2 col0\" >3</td> \n",
       "        <td id=\"T_74a11c74_d4c9_11e8_b707_f218982326adrow2_col1\" class=\"data row2 col1\" >$4.61</td> \n",
       "        <td id=\"T_74a11c74_d4c9_11e8_b707_f218982326adrow2_col2\" class=\"data row2 col2\" >$13.83</td> \n",
       "    </tr>    <tr> \n",
       "        <th id=\"T_74a11c74_d4c9_11e8_b707_f218982326adlevel0_row3\" class=\"row_heading level0 row3\" >Iral74</th> \n",
       "        <td id=\"T_74a11c74_d4c9_11e8_b707_f218982326adrow3_col0\" class=\"data row3 col0\" >4</td> \n",
       "        <td id=\"T_74a11c74_d4c9_11e8_b707_f218982326adrow3_col1\" class=\"data row3 col1\" >$3.40</td> \n",
       "        <td id=\"T_74a11c74_d4c9_11e8_b707_f218982326adrow3_col2\" class=\"data row3 col2\" >$13.62</td> \n",
       "    </tr>    <tr> \n",
       "        <th id=\"T_74a11c74_d4c9_11e8_b707_f218982326adlevel0_row4\" class=\"row_heading level0 row4\" >Iskadarya95</th> \n",
       "        <td id=\"T_74a11c74_d4c9_11e8_b707_f218982326adrow4_col0\" class=\"data row4 col0\" >3</td> \n",
       "        <td id=\"T_74a11c74_d4c9_11e8_b707_f218982326adrow4_col1\" class=\"data row4 col1\" >$4.37</td> \n",
       "        <td id=\"T_74a11c74_d4c9_11e8_b707_f218982326adrow4_col2\" class=\"data row4 col2\" >$13.10</td> \n",
       "    </tr></tbody> \n",
       "</table> "
      ],
      "text/plain": [
       "<pandas.io.formats.style.Styler at 0x11cec0438>"
      ]
     },
     "execution_count": 51,
     "metadata": {},
     "output_type": "execute_result"
    }
   ],
   "source": [
    "spenders = purchase_data.groupby(\"SN\")\n",
    "\n",
    "purchase_count = spenders[\"Purchase ID\"].count()\n",
    "\n",
    "avg_purchase_price = spenders[\"Price\"].mean()\n",
    "\n",
    "purchase_total = spenders[\"Price\"].sum()\n",
    "\n",
    "top_spenders = pd.DataFrame({\"Purchase Count\": purchase_count,\n",
    "                             \"Average Purchase Price\": avg_purchase_price,\n",
    "                             \"Total Purchase Value\":purchase_total})\n",
    "\n",
    "formatted_spenders = top_spenders.sort_values([\"Total Purchase Value\"], ascending=False).head()\n",
    "\n",
    "formatted_spenders.style.format({\"Average Purchase Total\":\"${:,.2f}\",\n",
    "                                 \"Average Purchase Price\":\"${:,.2f}\", \n",
    "                                 \"Total Purchase Value\":\"${:,.2f}\"})"
   ]
  },
  {
   "cell_type": "code",
   "execution_count": 53,
   "metadata": {},
   "outputs": [
    {
     "data": {
      "text/html": [
       "<style  type=\"text/css\" >\n",
       "</style>  \n",
       "<table id=\"T_c319aed2_d4c9_11e8_89c0_f218982326ad\" > \n",
       "<thead>    <tr> \n",
       "        <th class=\"blank\" ></th> \n",
       "        <th class=\"blank level0\" ></th> \n",
       "        <th class=\"col_heading level0 col0\" >Purchase Count</th> \n",
       "        <th class=\"col_heading level0 col1\" >Item Price</th> \n",
       "        <th class=\"col_heading level0 col2\" >Total Purchase Value</th> \n",
       "    </tr>    <tr> \n",
       "        <th class=\"index_name level0\" >Item ID</th> \n",
       "        <th class=\"index_name level1\" >Item Name</th> \n",
       "        <th class=\"blank\" ></th> \n",
       "        <th class=\"blank\" ></th> \n",
       "        <th class=\"blank\" ></th> \n",
       "    </tr></thead> \n",
       "<tbody>    <tr> \n",
       "        <th id=\"T_c319aed2_d4c9_11e8_89c0_f218982326adlevel0_row0\" class=\"row_heading level0 row0\" >178</th> \n",
       "        <th id=\"T_c319aed2_d4c9_11e8_89c0_f218982326adlevel1_row0\" class=\"row_heading level1 row0\" >Oathbreaker, Last Hope of the Breaking Storm</th> \n",
       "        <td id=\"T_c319aed2_d4c9_11e8_89c0_f218982326adrow0_col0\" class=\"data row0 col0\" >12</td> \n",
       "        <td id=\"T_c319aed2_d4c9_11e8_89c0_f218982326adrow0_col1\" class=\"data row0 col1\" >$4.23</td> \n",
       "        <td id=\"T_c319aed2_d4c9_11e8_89c0_f218982326adrow0_col2\" class=\"data row0 col2\" >$50.76</td> \n",
       "    </tr>    <tr> \n",
       "        <th id=\"T_c319aed2_d4c9_11e8_89c0_f218982326adlevel0_row1\" class=\"row_heading level0 row1\" >145</th> \n",
       "        <th id=\"T_c319aed2_d4c9_11e8_89c0_f218982326adlevel1_row1\" class=\"row_heading level1 row1\" >Fiery Glass Crusader</th> \n",
       "        <td id=\"T_c319aed2_d4c9_11e8_89c0_f218982326adrow1_col0\" class=\"data row1 col0\" >9</td> \n",
       "        <td id=\"T_c319aed2_d4c9_11e8_89c0_f218982326adrow1_col1\" class=\"data row1 col1\" >$4.58</td> \n",
       "        <td id=\"T_c319aed2_d4c9_11e8_89c0_f218982326adrow1_col2\" class=\"data row1 col2\" >$41.22</td> \n",
       "    </tr>    <tr> \n",
       "        <th id=\"T_c319aed2_d4c9_11e8_89c0_f218982326adlevel0_row2\" class=\"row_heading level0 row2\" >108</th> \n",
       "        <th id=\"T_c319aed2_d4c9_11e8_89c0_f218982326adlevel1_row2\" class=\"row_heading level1 row2\" >Extraction, Quickblade Of Trembling Hands</th> \n",
       "        <td id=\"T_c319aed2_d4c9_11e8_89c0_f218982326adrow2_col0\" class=\"data row2 col0\" >9</td> \n",
       "        <td id=\"T_c319aed2_d4c9_11e8_89c0_f218982326adrow2_col1\" class=\"data row2 col1\" >$3.53</td> \n",
       "        <td id=\"T_c319aed2_d4c9_11e8_89c0_f218982326adrow2_col2\" class=\"data row2 col2\" >$31.77</td> \n",
       "    </tr>    <tr> \n",
       "        <th id=\"T_c319aed2_d4c9_11e8_89c0_f218982326adlevel0_row3\" class=\"row_heading level0 row3\" >82</th> \n",
       "        <th id=\"T_c319aed2_d4c9_11e8_89c0_f218982326adlevel1_row3\" class=\"row_heading level1 row3\" >Nirvana</th> \n",
       "        <td id=\"T_c319aed2_d4c9_11e8_89c0_f218982326adrow3_col0\" class=\"data row3 col0\" >9</td> \n",
       "        <td id=\"T_c319aed2_d4c9_11e8_89c0_f218982326adrow3_col1\" class=\"data row3 col1\" >$4.90</td> \n",
       "        <td id=\"T_c319aed2_d4c9_11e8_89c0_f218982326adrow3_col2\" class=\"data row3 col2\" >$44.10</td> \n",
       "    </tr>    <tr> \n",
       "        <th id=\"T_c319aed2_d4c9_11e8_89c0_f218982326adlevel0_row4\" class=\"row_heading level0 row4\" >19</th> \n",
       "        <th id=\"T_c319aed2_d4c9_11e8_89c0_f218982326adlevel1_row4\" class=\"row_heading level1 row4\" >Pursuit, Cudgel of Necromancy</th> \n",
       "        <td id=\"T_c319aed2_d4c9_11e8_89c0_f218982326adrow4_col0\" class=\"data row4 col0\" >8</td> \n",
       "        <td id=\"T_c319aed2_d4c9_11e8_89c0_f218982326adrow4_col1\" class=\"data row4 col1\" >$1.02</td> \n",
       "        <td id=\"T_c319aed2_d4c9_11e8_89c0_f218982326adrow4_col2\" class=\"data row4 col2\" >$8.16</td> \n",
       "    </tr></tbody> \n",
       "</table> "
      ],
      "text/plain": [
       "<pandas.io.formats.style.Styler at 0x11cedd048>"
      ]
     },
     "execution_count": 53,
     "metadata": {},
     "output_type": "execute_result"
    }
   ],
   "source": [
    "items = purchase_data[[\"Item ID\", \"Item Name\", \"Price\"]]\n",
    "\n",
    "item_types = items.groupby([\"Item ID\",\"Item Name\"])\n",
    "\n",
    "purchase_count= item_types[\"Price\"].count()\n",
    "\n",
    "purchase_value = (item_types[\"Price\"].sum()) \n",
    "\n",
    "item_price = purchase_value/purchase_count\n",
    "\n",
    "most_popular = pd.DataFrame({\"Purchase Count\": purchase_count, \n",
    "                                   \"Item Price\": item_price,\n",
    "                                   \"Total Purchase Value\":purchase_value})\n",
    "\n",
    "popular = most_popular.sort_values([\"Purchase Count\"], ascending=False).head()\n",
    "\n",
    "popular.style.format({\"Item Price\":\"${:,.2f}\",\n",
    "                                \"Total Purchase Value\":\"${:,.2f}\"})"
   ]
  },
  {
   "cell_type": "code",
   "execution_count": 54,
   "metadata": {},
   "outputs": [
    {
     "data": {
      "text/html": [
       "<style  type=\"text/css\" >\n",
       "</style>  \n",
       "<table id=\"T_e14826a4_d4c9_11e8_90d9_f218982326ad\" > \n",
       "<thead>    <tr> \n",
       "        <th class=\"blank\" ></th> \n",
       "        <th class=\"blank level0\" ></th> \n",
       "        <th class=\"col_heading level0 col0\" >Purchase Count</th> \n",
       "        <th class=\"col_heading level0 col1\" >Item Price</th> \n",
       "        <th class=\"col_heading level0 col2\" >Total Purchase Value</th> \n",
       "    </tr>    <tr> \n",
       "        <th class=\"index_name level0\" >Item ID</th> \n",
       "        <th class=\"index_name level1\" >Item Name</th> \n",
       "        <th class=\"blank\" ></th> \n",
       "        <th class=\"blank\" ></th> \n",
       "        <th class=\"blank\" ></th> \n",
       "    </tr></thead> \n",
       "<tbody>    <tr> \n",
       "        <th id=\"T_e14826a4_d4c9_11e8_90d9_f218982326adlevel0_row0\" class=\"row_heading level0 row0\" >178</th> \n",
       "        <th id=\"T_e14826a4_d4c9_11e8_90d9_f218982326adlevel1_row0\" class=\"row_heading level1 row0\" >Oathbreaker, Last Hope of the Breaking Storm</th> \n",
       "        <td id=\"T_e14826a4_d4c9_11e8_90d9_f218982326adrow0_col0\" class=\"data row0 col0\" >12</td> \n",
       "        <td id=\"T_e14826a4_d4c9_11e8_90d9_f218982326adrow0_col1\" class=\"data row0 col1\" >$4.23</td> \n",
       "        <td id=\"T_e14826a4_d4c9_11e8_90d9_f218982326adrow0_col2\" class=\"data row0 col2\" >$50.76</td> \n",
       "    </tr>    <tr> \n",
       "        <th id=\"T_e14826a4_d4c9_11e8_90d9_f218982326adlevel0_row1\" class=\"row_heading level0 row1\" >82</th> \n",
       "        <th id=\"T_e14826a4_d4c9_11e8_90d9_f218982326adlevel1_row1\" class=\"row_heading level1 row1\" >Nirvana</th> \n",
       "        <td id=\"T_e14826a4_d4c9_11e8_90d9_f218982326adrow1_col0\" class=\"data row1 col0\" >9</td> \n",
       "        <td id=\"T_e14826a4_d4c9_11e8_90d9_f218982326adrow1_col1\" class=\"data row1 col1\" >$4.90</td> \n",
       "        <td id=\"T_e14826a4_d4c9_11e8_90d9_f218982326adrow1_col2\" class=\"data row1 col2\" >$44.10</td> \n",
       "    </tr>    <tr> \n",
       "        <th id=\"T_e14826a4_d4c9_11e8_90d9_f218982326adlevel0_row2\" class=\"row_heading level0 row2\" >145</th> \n",
       "        <th id=\"T_e14826a4_d4c9_11e8_90d9_f218982326adlevel1_row2\" class=\"row_heading level1 row2\" >Fiery Glass Crusader</th> \n",
       "        <td id=\"T_e14826a4_d4c9_11e8_90d9_f218982326adrow2_col0\" class=\"data row2 col0\" >9</td> \n",
       "        <td id=\"T_e14826a4_d4c9_11e8_90d9_f218982326adrow2_col1\" class=\"data row2 col1\" >$4.58</td> \n",
       "        <td id=\"T_e14826a4_d4c9_11e8_90d9_f218982326adrow2_col2\" class=\"data row2 col2\" >$41.22</td> \n",
       "    </tr>    <tr> \n",
       "        <th id=\"T_e14826a4_d4c9_11e8_90d9_f218982326adlevel0_row3\" class=\"row_heading level0 row3\" >92</th> \n",
       "        <th id=\"T_e14826a4_d4c9_11e8_90d9_f218982326adlevel1_row3\" class=\"row_heading level1 row3\" >Final Critic</th> \n",
       "        <td id=\"T_e14826a4_d4c9_11e8_90d9_f218982326adrow3_col0\" class=\"data row3 col0\" >8</td> \n",
       "        <td id=\"T_e14826a4_d4c9_11e8_90d9_f218982326adrow3_col1\" class=\"data row3 col1\" >$4.88</td> \n",
       "        <td id=\"T_e14826a4_d4c9_11e8_90d9_f218982326adrow3_col2\" class=\"data row3 col2\" >$39.04</td> \n",
       "    </tr>    <tr> \n",
       "        <th id=\"T_e14826a4_d4c9_11e8_90d9_f218982326adlevel0_row4\" class=\"row_heading level0 row4\" >103</th> \n",
       "        <th id=\"T_e14826a4_d4c9_11e8_90d9_f218982326adlevel1_row4\" class=\"row_heading level1 row4\" >Singed Scalpel</th> \n",
       "        <td id=\"T_e14826a4_d4c9_11e8_90d9_f218982326adrow4_col0\" class=\"data row4 col0\" >8</td> \n",
       "        <td id=\"T_e14826a4_d4c9_11e8_90d9_f218982326adrow4_col1\" class=\"data row4 col1\" >$4.35</td> \n",
       "        <td id=\"T_e14826a4_d4c9_11e8_90d9_f218982326adrow4_col2\" class=\"data row4 col2\" >$34.80</td> \n",
       "    </tr></tbody> \n",
       "</table> "
      ],
      "text/plain": [
       "<pandas.io.formats.style.Styler at 0x11ceb3668>"
      ]
     },
     "execution_count": 54,
     "metadata": {},
     "output_type": "execute_result"
    }
   ],
   "source": [
    "profitable = most_popular_items.sort_values([\"Total Purchase Value\"],ascending=False).head()\n",
    "profitable.style.format({\"Item Price\":\"${:,.2f}\",\n",
    "                         \"Total Purchase Value\":\"${:,.2f}\"})"
   ]
  },
  {
   "cell_type": "code",
   "execution_count": null,
   "metadata": {},
   "outputs": [],
   "source": [
    "The most obvious trend in the Heroes of Pymoli data is that the largest majority of players\n",
    "fall within the age rage of 20-24 years old.This being almost half of all the totals players are from that age group.\n",
    "The male gender is not only the largest percentage of players based on gender, but also the largest buyers of any\n",
    "unqiue add ons avaible to purchase. Even though there is a large number of purchases for add ons, there is no \n",
    "specific outlier for a frequently bought item. The most popular item was only purchased 12 times. "
   ]
  }
 ],
 "metadata": {
  "kernelspec": {
   "display_name": "Python 3",
   "language": "python",
   "name": "python3"
  },
  "language_info": {
   "codemirror_mode": {
    "name": "ipython",
    "version": 3
   },
   "file_extension": ".py",
   "mimetype": "text/x-python",
   "name": "python",
   "nbconvert_exporter": "python",
   "pygments_lexer": "ipython3",
   "version": "3.6.5"
  }
 },
 "nbformat": 4,
 "nbformat_minor": 2
}
